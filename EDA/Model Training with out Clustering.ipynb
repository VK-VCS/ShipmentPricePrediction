{
 "cells": [
  {
   "cell_type": "code",
   "execution_count": 1,
   "metadata": {},
   "outputs": [],
   "source": [
    "import pandas as pd\n",
    "import matplotlib.pyplot as plt\n",
    "import seaborn as sns\n",
    "import numpy as np\n",
    "import warnings\n",
    "warnings.filterwarnings('ignore')"
   ]
  },
  {
   "cell_type": "code",
   "execution_count": 3,
   "metadata": {},
   "outputs": [
    {
     "data": {
      "text/plain": [
       "Index(['Unit of Measure (Per Pack)', 'Pack Price', 'Unit Price',\n",
       "       'Weight (Kilograms)', 'Freight Cost (USD)', 'Line Item Insurance (USD)',\n",
       "       'Managed By_Ethiopia Field Office', 'Managed By_Haiti Field Office',\n",
       "       'Managed By_PMO - US', 'Managed By_South Africa Field Office',\n",
       "       'Fulfill Via_Direct Drop', 'Fulfill Via_From RDC',\n",
       "       'Vendor INCO Term_CIF', 'Vendor INCO Term_CIP', 'Vendor INCO Term_DAP',\n",
       "       'Vendor INCO Term_DDP', 'Vendor INCO Term_DDU', 'Vendor INCO Term_EXW',\n",
       "       'Vendor INCO Term_FCA', 'Vendor INCO Term_N/A - From RDC',\n",
       "       'Shipment Mode_Air', 'Shipment Mode_Air Charter', 'Shipment Mode_Ocean',\n",
       "       'Shipment Mode_Truck', 'Product Group_ACT', 'Product Group_ANTM',\n",
       "       'Product Group_ARV', 'Product Group_HRDT', 'Product Group_MRDT',\n",
       "       'Sub Classification_ACT', 'Sub Classification_Adult',\n",
       "       'Sub Classification_HIV test',\n",
       "       'Sub Classification_HIV test - Ancillary', 'Sub Classification_Malaria',\n",
       "       'Sub Classification_Pediatric', 'First Line Designation_No',\n",
       "       'First Line Designation_Yes'],\n",
       "      dtype='object')"
      ]
     },
     "execution_count": 3,
     "metadata": {},
     "output_type": "execute_result"
    }
   ],
   "source": [
    "data=pd.read_csv(\"F:\\\\ML\\\\ML Ineuron\\\\Project\\\\ShipmentPricingPrediction\\\\EDA\\\\Analyzed_Data.csv\").drop(axis=1,columns=['Unnamed: 0'])\n",
    "data.columns"
   ]
  },
  {
   "cell_type": "code",
   "execution_count": 3,
   "metadata": {},
   "outputs": [],
   "source": [
    "x=data.drop(axis=1,columns=['Freight Cost (USD)'])\n",
    "y=data['Freight Cost (USD)']"
   ]
  },
  {
   "cell_type": "code",
   "execution_count": 4,
   "metadata": {},
   "outputs": [],
   "source": [
    "from sklearn.model_selection import train_test_split\n",
    "x_train, x_test, y_train, y_test = train_test_split(x, y, test_size=1 / 4, random_state=355)"
   ]
  },
  {
   "cell_type": "code",
   "execution_count": 5,
   "metadata": {},
   "outputs": [
    {
     "name": "stdout",
     "output_type": "stream",
     "text": [
      "Training score:0.6035191373165286 \n",
      "Testing Score:0.6099017301821442\n"
     ]
    }
   ],
   "source": [
    "from sklearn.linear_model  import LinearRegression\n",
    "regression1 = LinearRegression()\n",
    "regression1.fit(x_train,y_train)\n",
    "print(f'Training score:{regression1.score(x_train,y_train)} \\nTesting Score:{regression1.score(x_test,y_test)}')"
   ]
  },
  {
   "cell_type": "code",
   "execution_count": 6,
   "metadata": {},
   "outputs": [
    {
     "name": "stdout",
     "output_type": "stream",
     "text": [
      "Training score:0.6034704616560704 \n",
      "Testing Score:0.6099511057049054\n"
     ]
    }
   ],
   "source": [
    "from sklearn.linear_model  import Lasso,LassoCV\n",
    "lassocv1 = LassoCV(alphas = None,cv =10, max_iter = 100000, normalize = True).fit(x_train, y_train)\n",
    "lasso_reg1 = Lasso(lassocv1.alpha_).fit(x_train, y_train)\n",
    "print(f'Training score:{lasso_reg1.score(x_train,y_train)} \\nTesting Score:{lasso_reg1.score(x_test,y_test)}')"
   ]
  },
  {
   "cell_type": "code",
   "execution_count": 7,
   "metadata": {},
   "outputs": [
    {
     "name": "stdout",
     "output_type": "stream",
     "text": [
      "Training score:0.6035011312735843 \n",
      "Testing Score:0.6099602788443379\n"
     ]
    }
   ],
   "source": [
    "from sklearn.linear_model  import RidgeCV,Ridge\n",
    "alphas = np.random.uniform(low=0, high=10, size=(50,))\n",
    "ridgecv1 = RidgeCV(alphas = alphas,cv=10,normalize = True)\n",
    "ridgecv1.fit(x_train, y_train)\n",
    "ridge_reg1 = Ridge(alpha=ridgecv1.alpha_)\n",
    "ridge_reg1.fit(x_train, y_train)\n",
    "print(f'Training score:{ridge_reg1.score(x_train,y_train)} \\nTesting Score:{ridge_reg1.score(x_test,y_test)}')"
   ]
  },
  {
   "cell_type": "code",
   "execution_count": 8,
   "metadata": {},
   "outputs": [
    {
     "name": "stdout",
     "output_type": "stream",
     "text": [
      "Training score:0.6012783109931589 \n",
      "Testing Score:0.6090006724390475\n"
     ]
    }
   ],
   "source": [
    "from sklearn.linear_model  import ElasticNetCV,ElasticNet\n",
    "elasticCV1 = ElasticNetCV(alphas = None, cv =10)\n",
    "elasticCV1.fit(x_train, y_train)\n",
    "elasticnet_reg1 = ElasticNet(alpha = elasticCV1.alpha_,l1_ratio = elasticCV1.l1_ratio)\n",
    "elasticnet_reg1.fit(x_train, y_train)\n",
    "print(f'Training score:{elasticnet_reg1.score(x_train,y_train)} \\nTesting Score:{elasticnet_reg1.score(x_test,y_test)}')"
   ]
  },
  {
   "cell_type": "code",
   "execution_count": 9,
   "metadata": {},
   "outputs": [
    {
     "name": "stdout",
     "output_type": "stream",
     "text": [
      "Training score:0.6341654467574931 \n",
      "Testing Score:0.6411030298623144\n"
     ]
    }
   ],
   "source": [
    "from sklearn.svm import SVR\n",
    "SVR1 = SVR()\n",
    "SVR1.fit(x_train,y_train)\n",
    "print(f'Training score:{SVR1.score(x_train,y_train)} \\nTesting Score:{SVR1.score(x_test,y_test)}')"
   ]
  },
  {
   "cell_type": "code",
   "execution_count": 10,
   "metadata": {},
   "outputs": [
    {
     "name": "stdout",
     "output_type": "stream",
     "text": [
      "Training score:0.6868955467013539 \n",
      "Testing Score:0.6692016613529718\n"
     ]
    }
   ],
   "source": [
    "SVR1_tuned = SVR(gamma=0.1)\n",
    "SVR1_tuned.fit(x_train,y_train)\n",
    "print(f'Training score:{SVR1_tuned.score(x_train,y_train)} \\nTesting Score:{SVR1_tuned.score(x_test,y_test)}')"
   ]
  },
  {
   "cell_type": "code",
   "execution_count": 11,
   "metadata": {},
   "outputs": [
    {
     "name": "stdout",
     "output_type": "stream",
     "text": [
      "training score: 0.9999492319677423\n",
      "testing score: 0.4227209898441232\n"
     ]
    }
   ],
   "source": [
    "from sklearn.tree import DecisionTreeRegressor\n",
    "DTR1 = DecisionTreeRegressor(random_state=0).fit(x_train, y_train)\n",
    "print(f'training score: {DTR1.score(x_train, y_train)}')\n",
    "print(f'testing score: {DTR1.score(x_test, y_test)}')"
   ]
  },
  {
   "cell_type": "code",
   "execution_count": 12,
   "metadata": {},
   "outputs": [
    {
     "name": "stdout",
     "output_type": "stream",
     "text": [
      "training score: 0.6332060424191429\n",
      "testing score: 0.6188645130746477\n"
     ]
    }
   ],
   "source": [
    "DTR1_tuned = DecisionTreeRegressor(random_state=0,max_depth= 5, min_samples_leaf= 10).fit(x_train, y_train)\n",
    "print(f'training score: {DTR1_tuned.score(x_train, y_train)}')\n",
    "print(f'testing score: {DTR1_tuned.score(x_test, y_test)}')"
   ]
  },
  {
   "cell_type": "code",
   "execution_count": 13,
   "metadata": {},
   "outputs": [
    {
     "name": "stdout",
     "output_type": "stream",
     "text": [
      "training score: 0.7392606719147201\n",
      "testing score: 0.6312341405137961\n"
     ]
    }
   ],
   "source": [
    "from sklearn.neighbors import KNeighborsRegressor\n",
    "KNNR1 = KNeighborsRegressor().fit(x_train, y_train)\n",
    "print(f'training score: {KNNR1.score(x_train, y_train)}')\n",
    "print(f'testing score: {KNNR1.score(x_test, y_test)}')"
   ]
  },
  {
   "cell_type": "code",
   "execution_count": 14,
   "metadata": {},
   "outputs": [
    {
     "name": "stdout",
     "output_type": "stream",
     "text": [
      "training score: 0.6918633106263788\n",
      "testing score: 0.6534145749767217\n"
     ]
    }
   ],
   "source": [
    "KNNR1_tuned = KNeighborsRegressor(algorithm= 'brute', leaf_size= 18, n_neighbors= 10).fit(x_train, y_train)\n",
    "print(f'training score: {KNNR1_tuned.score(x_train, y_train)}')\n",
    "print(f'testing score: {KNNR1_tuned.score(x_test, y_test)}')"
   ]
  },
  {
   "cell_type": "code",
   "execution_count": 15,
   "metadata": {},
   "outputs": [
    {
     "name": "stdout",
     "output_type": "stream",
     "text": [
      "training score: 0.9557582699759453\n",
      "testing score: 0.6945811031218212\n"
     ]
    }
   ],
   "source": [
    "from sklearn.ensemble import RandomForestRegressor\n",
    "RF1 = RandomForestRegressor(random_state=0).fit(x_train, y_train)\n",
    "print(f'training score: {RF1.score(x_train, y_train)}')\n",
    "print(f'testing score: {RF1.score(x_test, y_test)}')"
   ]
  },
  {
   "cell_type": "code",
   "execution_count": 16,
   "metadata": {},
   "outputs": [
    {
     "name": "stdout",
     "output_type": "stream",
     "text": [
      "training score: 0.8236033000339765\n",
      "testing score: 0.6886071836985439\n"
     ]
    }
   ],
   "source": [
    "RFreg1 = RandomForestRegressor(n_estimators=160,max_depth=15,min_samples_leaf=5, random_state=0).fit(x_train, y_train)\n",
    "print(f'training score: {RFreg1.score(x_train, y_train)}')\n",
    "print(f'testing score: {RFreg1.score(x_test, y_test)}')"
   ]
  },
  {
   "cell_type": "code",
   "execution_count": 17,
   "metadata": {},
   "outputs": [
    {
     "name": "stdout",
     "output_type": "stream",
     "text": [
      "training score: 0.8867631564064339\n",
      "testing score: 0.685420762339883\n"
     ]
    }
   ],
   "source": [
    "import xgboost as xg\n",
    "xgb_r1 = xg.XGBRegressor().fit(x_train, y_train)\n",
    "print(f'training score: {xgb_r1.score(x_train, y_train)}')\n",
    "print(f'testing score: {xgb_r1.score(x_test, y_test)}')"
   ]
  },
  {
   "cell_type": "code",
   "execution_count": 18,
   "metadata": {},
   "outputs": [
    {
     "name": "stdout",
     "output_type": "stream",
     "text": [
      "training score: 0.8670015859988686\n",
      "testing score: 0.690358819998887\n"
     ]
    }
   ],
   "source": [
    "xgb_reg1 = xg.XGBRegressor(max_depth= 9, n_estimators= 900,learning_rate=0.01).fit(x_train, y_train)\n",
    "print(f'training score: {xgb_reg1.score(x_train, y_train)}')\n",
    "print(f'testing score: {xgb_reg1.score(x_test, y_test)}')"
   ]
  },
  {
   "cell_type": "code",
   "execution_count": 19,
   "metadata": {},
   "outputs": [],
   "source": [
    "R2_table=pd.DataFrame(columns=['Model','Train_R2','Test_R2','Train_R2_Tuning','Test_R2_Tuning'])\n",
    "R2_table.loc[0]=['Linear Regression',regression1.score(x_train,y_train),regression1.score(x_test,y_test),np.nan,np.nan]\n",
    "R2_table.loc[1]=['Lasso',lasso_reg1.score(x_train,y_train),lasso_reg1.score(x_test,y_test),np.nan,np.nan]\n",
    "R2_table.loc[2]=['Ridge',ridge_reg1.score(x_train,y_train),ridge_reg1.score(x_test,y_test),np.nan,np.nan]\n",
    "R2_table.loc[3]=['ElasticNet',elasticnet_reg1.score(x_train,y_train),elasticnet_reg1.score(x_test,y_test),np.nan,np.nan]\n",
    "R2_table.loc[4]=['SVR',SVR1.score(x_train,y_train),SVR1.score(x_test,y_test),SVR1_tuned.score(x_train,y_train),SVR1_tuned.score(x_test,y_test)]\n",
    "R2_table.loc[5]=['DTR',DTR1.score(x_train,y_train),DTR1.score(x_test,y_test),DTR1_tuned.score(x_train,y_train),DTR1_tuned.score(x_test,y_test)]\n",
    "R2_table.loc[6]=['KNNR',KNNR1.score(x_train,y_train),KNNR1.score(x_test,y_test),KNNR1_tuned.score(x_train,y_train),KNNR1_tuned.score(x_test,y_test)]\n",
    "R2_table.loc[7]=['Random Forest',RF1.score(x_train,y_train),RF1.score(x_test,y_test),RFreg1.score(x_train,y_train),RFreg1.score(x_test,y_test)]\n",
    "R2_table.loc[8]=['XG Boost',xgb_r1.score(x_train,y_train),xgb_r1.score(x_test,y_test),xgb_reg1.score(x_train,y_train),xgb_reg1.score(x_test,y_test)]"
   ]
  },
  {
   "cell_type": "code",
   "execution_count": 20,
   "metadata": {},
   "outputs": [
    {
     "data": {
      "text/html": [
       "<div>\n",
       "<style scoped>\n",
       "    .dataframe tbody tr th:only-of-type {\n",
       "        vertical-align: middle;\n",
       "    }\n",
       "\n",
       "    .dataframe tbody tr th {\n",
       "        vertical-align: top;\n",
       "    }\n",
       "\n",
       "    .dataframe thead th {\n",
       "        text-align: right;\n",
       "    }\n",
       "</style>\n",
       "<table border=\"1\" class=\"dataframe\">\n",
       "  <thead>\n",
       "    <tr style=\"text-align: right;\">\n",
       "      <th></th>\n",
       "      <th>Model</th>\n",
       "      <th>Train_R2</th>\n",
       "      <th>Test_R2</th>\n",
       "      <th>Train_R2_Tuning</th>\n",
       "      <th>Test_R2_Tuning</th>\n",
       "    </tr>\n",
       "  </thead>\n",
       "  <tbody>\n",
       "    <tr>\n",
       "      <th>0</th>\n",
       "      <td>Linear Regression</td>\n",
       "      <td>0.603519</td>\n",
       "      <td>0.609902</td>\n",
       "      <td>NaN</td>\n",
       "      <td>NaN</td>\n",
       "    </tr>\n",
       "    <tr>\n",
       "      <th>1</th>\n",
       "      <td>Lasso</td>\n",
       "      <td>0.603470</td>\n",
       "      <td>0.609951</td>\n",
       "      <td>NaN</td>\n",
       "      <td>NaN</td>\n",
       "    </tr>\n",
       "    <tr>\n",
       "      <th>2</th>\n",
       "      <td>Ridge</td>\n",
       "      <td>0.603501</td>\n",
       "      <td>0.609960</td>\n",
       "      <td>NaN</td>\n",
       "      <td>NaN</td>\n",
       "    </tr>\n",
       "    <tr>\n",
       "      <th>3</th>\n",
       "      <td>ElasticNet</td>\n",
       "      <td>0.601278</td>\n",
       "      <td>0.609001</td>\n",
       "      <td>NaN</td>\n",
       "      <td>NaN</td>\n",
       "    </tr>\n",
       "    <tr>\n",
       "      <th>4</th>\n",
       "      <td>SVR</td>\n",
       "      <td>0.634165</td>\n",
       "      <td>0.641103</td>\n",
       "      <td>0.686896</td>\n",
       "      <td>0.669202</td>\n",
       "    </tr>\n",
       "    <tr>\n",
       "      <th>5</th>\n",
       "      <td>DTR</td>\n",
       "      <td>0.999949</td>\n",
       "      <td>0.422721</td>\n",
       "      <td>0.633206</td>\n",
       "      <td>0.618865</td>\n",
       "    </tr>\n",
       "    <tr>\n",
       "      <th>6</th>\n",
       "      <td>KNNR</td>\n",
       "      <td>0.739261</td>\n",
       "      <td>0.631234</td>\n",
       "      <td>0.691863</td>\n",
       "      <td>0.653415</td>\n",
       "    </tr>\n",
       "    <tr>\n",
       "      <th>7</th>\n",
       "      <td>Random Forest</td>\n",
       "      <td>0.955758</td>\n",
       "      <td>0.694581</td>\n",
       "      <td>0.823603</td>\n",
       "      <td>0.688607</td>\n",
       "    </tr>\n",
       "    <tr>\n",
       "      <th>8</th>\n",
       "      <td>XG Boost</td>\n",
       "      <td>0.886763</td>\n",
       "      <td>0.685421</td>\n",
       "      <td>0.867002</td>\n",
       "      <td>0.690359</td>\n",
       "    </tr>\n",
       "  </tbody>\n",
       "</table>\n",
       "</div>"
      ],
      "text/plain": [
       "               Model  Train_R2   Test_R2  Train_R2_Tuning  Test_R2_Tuning\n",
       "0  Linear Regression  0.603519  0.609902              NaN             NaN\n",
       "1              Lasso  0.603470  0.609951              NaN             NaN\n",
       "2              Ridge  0.603501  0.609960              NaN             NaN\n",
       "3         ElasticNet  0.601278  0.609001              NaN             NaN\n",
       "4                SVR  0.634165  0.641103         0.686896        0.669202\n",
       "5                DTR  0.999949  0.422721         0.633206        0.618865\n",
       "6               KNNR  0.739261  0.631234         0.691863        0.653415\n",
       "7      Random Forest  0.955758  0.694581         0.823603        0.688607\n",
       "8           XG Boost  0.886763  0.685421         0.867002        0.690359"
      ]
     },
     "execution_count": 20,
     "metadata": {},
     "output_type": "execute_result"
    }
   ],
   "source": [
    "R2_table"
   ]
  },
  {
   "cell_type": "code",
   "execution_count": 21,
   "metadata": {},
   "outputs": [],
   "source": [
    "import pickle\n",
    "pickle.dump(xgb_reg1, open('F:\\\\ML\\\\ML Ineuron\\\\Project\\\\ShipmentPricingPrediction\\\\Models\\\\XGBoost.sav', 'wb'))"
   ]
  },
  {
   "cell_type": "code",
   "execution_count": null,
   "metadata": {},
   "outputs": [],
   "source": []
  }
 ],
 "metadata": {
  "kernelspec": {
   "display_name": "Python 3",
   "language": "python",
   "name": "python3"
  },
  "language_info": {
   "codemirror_mode": {
    "name": "ipython",
    "version": 3
   },
   "file_extension": ".py",
   "mimetype": "text/x-python",
   "name": "python",
   "nbconvert_exporter": "python",
   "pygments_lexer": "ipython3",
   "version": "3.7.6"
  }
 },
 "nbformat": 4,
 "nbformat_minor": 4
}
