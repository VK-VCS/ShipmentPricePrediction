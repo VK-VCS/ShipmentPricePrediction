{
 "cells": [
  {
   "cell_type": "code",
   "execution_count": 1,
   "metadata": {},
   "outputs": [],
   "source": [
    "import pandas as pd\n",
    "import matplotlib.pyplot as plt\n",
    "import seaborn as sns\n",
    "import numpy as np\n",
    "import warnings\n",
    "warnings.filterwarnings('ignore')"
   ]
  },
  {
   "cell_type": "code",
   "execution_count": 2,
   "metadata": {},
   "outputs": [
    {
     "data": {
      "text/html": [
       "<div>\n",
       "<style scoped>\n",
       "    .dataframe tbody tr th:only-of-type {\n",
       "        vertical-align: middle;\n",
       "    }\n",
       "\n",
       "    .dataframe tbody tr th {\n",
       "        vertical-align: top;\n",
       "    }\n",
       "\n",
       "    .dataframe thead th {\n",
       "        text-align: right;\n",
       "    }\n",
       "</style>\n",
       "<table border=\"1\" class=\"dataframe\">\n",
       "  <thead>\n",
       "    <tr style=\"text-align: right;\">\n",
       "      <th></th>\n",
       "      <th>Unit of Measure (Per Pack)</th>\n",
       "      <th>Pack Price</th>\n",
       "      <th>Unit Price</th>\n",
       "      <th>Weight (Kilograms)</th>\n",
       "      <th>Freight Cost (USD)</th>\n",
       "      <th>Line Item Insurance (USD)</th>\n",
       "      <th>Managed By_Ethiopia Field Office</th>\n",
       "      <th>Managed By_Haiti Field Office</th>\n",
       "      <th>Managed By_PMO - US</th>\n",
       "      <th>Managed By_South Africa Field Office</th>\n",
       "      <th>...</th>\n",
       "      <th>Product Group_HRDT</th>\n",
       "      <th>Product Group_MRDT</th>\n",
       "      <th>Sub Classification_ACT</th>\n",
       "      <th>Sub Classification_Adult</th>\n",
       "      <th>Sub Classification_HIV test</th>\n",
       "      <th>Sub Classification_HIV test - Ancillary</th>\n",
       "      <th>Sub Classification_Malaria</th>\n",
       "      <th>Sub Classification_Pediatric</th>\n",
       "      <th>First Line Designation_No</th>\n",
       "      <th>First Line Designation_Yes</th>\n",
       "    </tr>\n",
       "  </thead>\n",
       "  <tbody>\n",
       "    <tr>\n",
       "      <th>0</th>\n",
       "      <td>3.401197</td>\n",
       "      <td>3.367296</td>\n",
       "      <td>-0.030459</td>\n",
       "      <td>2.564949</td>\n",
       "      <td>6.65973</td>\n",
       "      <td>-0.267879</td>\n",
       "      <td>0.0</td>\n",
       "      <td>0.0</td>\n",
       "      <td>1.0</td>\n",
       "      <td>0.0</td>\n",
       "      <td>...</td>\n",
       "      <td>1.0</td>\n",
       "      <td>0.0</td>\n",
       "      <td>0.0</td>\n",
       "      <td>0.0</td>\n",
       "      <td>1.0</td>\n",
       "      <td>0.0</td>\n",
       "      <td>0.0</td>\n",
       "      <td>0.0</td>\n",
       "      <td>0.0</td>\n",
       "      <td>1.0</td>\n",
       "    </tr>\n",
       "  </tbody>\n",
       "</table>\n",
       "<p>1 rows × 37 columns</p>\n",
       "</div>"
      ],
      "text/plain": [
       "   Unit of Measure (Per Pack)  Pack Price  Unit Price  Weight (Kilograms)  \\\n",
       "0                    3.401197    3.367296   -0.030459            2.564949   \n",
       "\n",
       "   Freight Cost (USD)  Line Item Insurance (USD)  \\\n",
       "0             6.65973                  -0.267879   \n",
       "\n",
       "   Managed By_Ethiopia Field Office  Managed By_Haiti Field Office  \\\n",
       "0                               0.0                            0.0   \n",
       "\n",
       "   Managed By_PMO - US  Managed By_South Africa Field Office  ...  \\\n",
       "0                  1.0                                   0.0  ...   \n",
       "\n",
       "   Product Group_HRDT  Product Group_MRDT  Sub Classification_ACT  \\\n",
       "0                 1.0                 0.0                     0.0   \n",
       "\n",
       "   Sub Classification_Adult  Sub Classification_HIV test  \\\n",
       "0                       0.0                          1.0   \n",
       "\n",
       "   Sub Classification_HIV test - Ancillary  Sub Classification_Malaria  \\\n",
       "0                                      0.0                         0.0   \n",
       "\n",
       "   Sub Classification_Pediatric  First Line Designation_No  \\\n",
       "0                           0.0                        0.0   \n",
       "\n",
       "   First Line Designation_Yes  \n",
       "0                         1.0  \n",
       "\n",
       "[1 rows x 37 columns]"
      ]
     },
     "execution_count": 2,
     "metadata": {},
     "output_type": "execute_result"
    }
   ],
   "source": [
    "data=pd.read_csv(\"F:\\\\ML\\\\ML Ineuron\\\\Project\\\\ShipmentPricingPrediction\\\\EDA\\\\Analyzed_Data.csv\").drop(axis=1,columns=['Unnamed: 0'])\n",
    "data.head(1)"
   ]
  },
  {
   "cell_type": "code",
   "execution_count": 3,
   "metadata": {},
   "outputs": [],
   "source": [
    "x=data.drop(axis=1,columns=['Freight Cost (USD)'])\n",
    "y=data['Freight Cost (USD)']"
   ]
  },
  {
   "cell_type": "markdown",
   "metadata": {},
   "source": [
    "### Clustering "
   ]
  },
  {
   "cell_type": "code",
   "execution_count": 4,
   "metadata": {},
   "outputs": [
    {
     "data": {
      "image/png": "[encoded data removed]",
      "text/plain": [
       "<Figure size 432x288 with 1 Axes>"
      ]
     },
     "metadata": {
      "needs_background": "light"
     },
     "output_type": "display_data"
    }
   ],
   "source": [
    "from sklearn.cluster import KMeans\n",
    "\n",
    "wcss=[]\n",
    "for i in range(1,11):\n",
    "    kmeans = KMeans(init='k-means++',n_clusters=i, random_state=0).fit(x)\n",
    "    wcss.append(kmeans.inertia_)\n",
    "plt.plot(range(1,11),wcss) # creating the graph between WCSS and the number of clusters\n",
    "plt.title('The Elbow Method')\n",
    "plt.xlabel('Number of clusters')\n",
    "plt.ylabel('WCSS')\n",
    "plt.show()"
   ]
  },
  {
   "cell_type": "code",
   "execution_count": 5,
   "metadata": {},
   "outputs": [
    {
     "name": "stdout",
     "output_type": "stream",
     "text": [
      "Requirement already satisfied: kneed in c:\\users\\hp\\anaconda3\\lib\\site-packages (0.7.0)\n",
      "Requirement already satisfied: scipy in c:\\users\\hp\\anaconda3\\lib\\site-packages (from kneed) (1.4.1)\n",
      "Requirement already satisfied: matplotlib in c:\\users\\hp\\appdata\\roaming\\python\\python37\\site-packages (from kneed) (3.5.1)\n",
      "Requirement already satisfied: numpy>=1.14.2 in c:\\users\\hp\\anaconda3\\lib\\site-packages (from kneed) (1.18.1)\n",
      "Requirement already satisfied: packaging>=20.0 in c:\\users\\hp\\anaconda3\\lib\\site-packages (from matplotlib->kneed) (20.1)\n",
      "Requirement already satisfied: kiwisolver>=1.0.1 in c:\\users\\hp\\anaconda3\\lib\\site-packages (from matplotlib->kneed) (1.1.0)\n",
      "Requirement already satisfied: pillow>=6.2.0 in c:\\users\\hp\\anaconda3\\lib\\site-packages (from matplotlib->kneed) (7.0.0)\n",
      "Requirement already satisfied: python-dateutil>=2.7 in c:\\users\\hp\\anaconda3\\lib\\site-packages (from matplotlib->kneed) (2.8.1)\n",
      "Requirement already satisfied: fonttools>=4.22.0 in c:\\users\\hp\\anaconda3\\lib\\site-packages (from matplotlib->kneed) (4.29.1)\n",
      "Requirement already satisfied: pyparsing>=2.2.1 in c:\\users\\hp\\anaconda3\\lib\\site-packages (from matplotlib->kneed) (2.4.6)\n",
      "Requirement already satisfied: cycler>=0.10 in c:\\users\\hp\\anaconda3\\lib\\site-packages (from matplotlib->kneed) (0.10.0)\n",
      "Requirement already satisfied: six in c:\\users\\hp\\anaconda3\\lib\\site-packages (from packaging>=20.0->matplotlib->kneed) (1.14.0)\n",
      "Requirement already satisfied: setuptools in c:\\users\\hp\\anaconda3\\lib\\site-packages (from kiwisolver>=1.0.1->matplotlib->kneed) (45.2.0.post20200210)\n",
      "Note: you may need to restart the kernel to use updated packages.\n"
     ]
    }
   ],
   "source": [
    "pip install kneed"
   ]
  },
  {
   "cell_type": "code",
   "execution_count": 6,
   "metadata": {},
   "outputs": [
    {
     "data": {
      "text/plain": [
       "3"
      ]
     },
     "execution_count": 6,
     "metadata": {},
     "output_type": "execute_result"
    }
   ],
   "source": [
    "from kneed import KneeLocator\n",
    "optimal_clusters=KneeLocator(range(1,11), wcss, curve='convex', direction='decreasing')\n",
    "optimal_clusters.knee"
   ]
  },
  {
   "cell_type": "code",
   "execution_count": 7,
   "metadata": {},
   "outputs": [
    {
     "data": {
      "text/plain": [
       "8030"
      ]
     },
     "execution_count": 7,
     "metadata": {},
     "output_type": "execute_result"
    }
   ],
   "source": [
    "kmean = KMeans(init='k-means++',n_clusters=3, random_state=0)\n",
    "y_kmean=kmean.fit_predict(x)\n",
    "len(y_kmean)"
   ]
  },
  {
   "cell_type": "code",
   "execution_count": 8,
   "metadata": {},
   "outputs": [
    {
     "data": {
      "text/plain": [
       "1    3706\n",
       "0    2360\n",
       "2    1964\n",
       "Name: cluster, dtype: int64"
      ]
     },
     "execution_count": 8,
     "metadata": {},
     "output_type": "execute_result"
    }
   ],
   "source": [
    "x['cluster']=y_kmean\n",
    "x['Freight']=y\n",
    "x['cluster'].value_counts()"
   ]
  },
  {
   "cell_type": "code",
   "execution_count": 9,
   "metadata": {},
   "outputs": [],
   "source": [
    "R2_table=pd.DataFrame(columns=['Model','Train_R2','Test_R2','Train_R2_Tuning','Test_R2_Tuning'])"
   ]
  },
  {
   "cell_type": "markdown",
   "metadata": {},
   "source": [
    "### Cluster -1 "
   ]
  },
  {
   "cell_type": "code",
   "execution_count": 10,
   "metadata": {},
   "outputs": [],
   "source": [
    "cluster_data=x[x['cluster']==0] #1st cluster\n",
    "cluster_features=cluster_data.drop(['cluster','Freight'],axis=1)\n",
    "cluster_output=cluster_data['Freight']"
   ]
  },
  {
   "cell_type": "raw",
   "metadata": {},
   "source": [
    "Models to be Trained:\n",
    "\n",
    "Linear,Ridge,Lasso,Elastic-Net Regression\n",
    "SVR\n",
    "DTR\n",
    "KNN\n",
    "\n",
    "Ensembled Techniques:\n",
    "Bagging\n",
    "Boosting"
   ]
  },
  {
   "cell_type": "code",
   "execution_count": 11,
   "metadata": {},
   "outputs": [],
   "source": [
    "from sklearn.model_selection import train_test_split\n",
    "x_train, x_test, y_train, y_test = train_test_split(cluster_features, cluster_output, test_size=1 / 3, random_state=355)"
   ]
  },
  {
   "cell_type": "code",
   "execution_count": 12,
   "metadata": {},
   "outputs": [
    {
     "name": "stdout",
     "output_type": "stream",
     "text": [
      "Training score:0.4564212237656746 \n",
      "Testing Score:0.3531465967361188\n"
     ]
    }
   ],
   "source": [
    "from sklearn.linear_model  import LinearRegression\n",
    "regression1 = LinearRegression()\n",
    "regression1.fit(x_train,y_train)\n",
    "print(f'Training score:{regression1.score(x_train,y_train)} \\nTesting Score:{regression1.score(x_test,y_test)}')"
   ]
  },
  {
   "cell_type": "code",
   "execution_count": 13,
   "metadata": {},
   "outputs": [],
   "source": [
    "R2_table.loc[0]=['Linear Regression',regression1.score(x_train,y_train),regression1.score(x_test,y_test),np.nan,np.nan]"
   ]
  },
  {
   "cell_type": "code",
   "execution_count": 14,
   "metadata": {},
   "outputs": [
    {
     "name": "stdout",
     "output_type": "stream",
     "text": [
      "Training score:0.0 \n",
      "Testing Score:-0.0001461599188328222\n"
     ]
    }
   ],
   "source": [
    "from sklearn.linear_model  import Lasso\n",
    "lasso1 = Lasso()\n",
    "lasso1.fit(x_train, y_train)\n",
    "print(f'Training score:{lasso1.score(x_train,y_train)} \\nTesting Score:{lasso1.score(x_test,y_test)}')"
   ]
  },
  {
   "cell_type": "code",
   "execution_count": 15,
   "metadata": {},
   "outputs": [
    {
     "name": "stdout",
     "output_type": "stream",
     "text": [
      "Training score:0.45617741170724047 \n",
      "Testing Score:0.35744019010791384\n"
     ]
    }
   ],
   "source": [
    "from sklearn.linear_model  import LassoCV\n",
    "lassocv1 = LassoCV(alphas = None,cv =10, max_iter = 100000, normalize = True).fit(x_train, y_train)\n",
    "lasso_reg1 = Lasso(lassocv1.alpha_).fit(x_train, y_train)\n",
    "print(f'Training score:{lasso_reg1.score(x_train,y_train)} \\nTesting Score:{lasso_reg1.score(x_test,y_test)}')"
   ]
  },
  {
   "cell_type": "code",
   "execution_count": 16,
   "metadata": {},
   "outputs": [],
   "source": [
    "R2_table.loc[1]=['Lasso',lasso_reg1.score(x_train,y_train),lasso_reg1.score(x_test,y_test),np.nan,np.nan]"
   ]
  },
  {
   "cell_type": "code",
   "execution_count": 17,
   "metadata": {},
   "outputs": [
    {
     "name": "stdout",
     "output_type": "stream",
     "text": [
      "Training score:0.45557138947549747 \n",
      "Testing Score:0.36462250220239967\n"
     ]
    }
   ],
   "source": [
    "from sklearn.linear_model  import RidgeCV,Ridge\n",
    "alphas = np.random.uniform(low=0, high=10, size=(50,))\n",
    "ridgecv1 = RidgeCV(alphas = alphas,cv=10,normalize = True)\n",
    "ridgecv1.fit(x_train, y_train)\n",
    "ridge_reg1 = Ridge(alpha=ridgecv1.alpha_)\n",
    "ridge_reg1.fit(x_train, y_train)\n",
    "print(f'Training score:{ridge_reg1.score(x_train,y_train)} \\nTesting Score:{ridge_reg1.score(x_test,y_test)}')"
   ]
  },
  {
   "cell_type": "code",
   "execution_count": 18,
   "metadata": {},
   "outputs": [],
   "source": [
    "R2_table.loc[2]=['Ridge',ridge_reg1.score(x_train,y_train),ridge_reg1.score(x_test,y_test),np.nan,np.nan]"
   ]
  },
  {
   "cell_type": "code",
   "execution_count": 19,
   "metadata": {},
   "outputs": [
    {
     "name": "stdout",
     "output_type": "stream",
     "text": [
      "Training score:0.45161583495859114 \n",
      "Testing Score:0.37371086724025215\n"
     ]
    }
   ],
   "source": [
    "from sklearn.linear_model  import ElasticNetCV,ElasticNet\n",
    "elasticCV1 = ElasticNetCV(alphas = None, cv =10)\n",
    "elasticCV1.fit(x_train, y_train)\n",
    "elasticnet_reg1 = ElasticNet(alpha = elasticCV1.alpha_,l1_ratio = elasticCV1.l1_ratio)\n",
    "elasticnet_reg1.fit(x_train, y_train)\n",
    "print(f'Training score:{elasticnet_reg1.score(x_train,y_train)} \\nTesting Score:{elasticnet_reg1.score(x_test,y_test)}')"
   ]
  },
  {
   "cell_type": "code",
   "execution_count": 20,
   "metadata": {},
   "outputs": [],
   "source": [
    "R2_table.loc[3]=['ElasticNet',elasticnet_reg1.score(x_train,y_train),elasticnet_reg1.score(x_test,y_test),np.nan,np.nan]"
   ]
  },
  {
   "cell_type": "code",
   "execution_count": 21,
   "metadata": {},
   "outputs": [
    {
     "name": "stdout",
     "output_type": "stream",
     "text": [
      "Training score:0.4530317054158993 \n",
      "Testing Score:0.3751492250939157\n"
     ]
    }
   ],
   "source": [
    "from sklearn.svm import SVR\n",
    "SVR1 = SVR()\n",
    "SVR1.fit(x_train,y_train)\n",
    "print(f'Training score:{SVR1.score(x_train,y_train)} \\nTesting Score:{SVR1.score(x_test,y_test)}')"
   ]
  },
  {
   "cell_type": "raw",
   "metadata": {},
   "source": [
    "from sklearn.model_selection import GridSearchCV\n",
    "parameters ={'C': [0.01,0.1, 1, 10, 100, 1000],'gamma': [1, 0.1, 0.01, 0.001, 0.0001],'kernel': ['rbf']}\n",
    "SVR_Reg1 = SVR()\n",
    "for i in  range(2,11):\n",
    "    SVR_GSCV1 = GridSearchCV(SVR_Reg1, parameters, cv=i).fit(x_train,y_train)\n",
    "    print(\"tuned hpyerparameters :(best parameters) \",SVR_GSCV1.best_params_)\n",
    "    print(\"accuracy :\",SVR_GSCV1.best_score_)\n"
   ]
  },
  {
   "cell_type": "code",
   "execution_count": 22,
   "metadata": {},
   "outputs": [
    {
     "name": "stdout",
     "output_type": "stream",
     "text": [
      "Training score:0.55137372658169 \n",
      "Testing Score:0.3908420447365888\n"
     ]
    }
   ],
   "source": [
    "SVR1_tuned = SVR(gamma=0.1)\n",
    "SVR1_tuned.fit(x_train,y_train)\n",
    "print(f'Training score:{SVR1_tuned.score(x_train,y_train)} \\nTesting Score:{SVR1_tuned.score(x_test,y_test)}')"
   ]
  },
  {
   "cell_type": "code",
   "execution_count": 23,
   "metadata": {},
   "outputs": [],
   "source": [
    "R2_table.loc[4]=['SVR',SVR1.score(x_train,y_train),SVR1.score(x_test,y_test),SVR1_tuned.score(x_train,y_train),SVR1_tuned.score(x_test,y_test)]"
   ]
  },
  {
   "cell_type": "code",
   "execution_count": 24,
   "metadata": {},
   "outputs": [
    {
     "name": "stdout",
     "output_type": "stream",
     "text": [
      "training score: 0.9998020882734195\n",
      "testing score: 0.02692511411403653\n"
     ]
    }
   ],
   "source": [
    "from sklearn.tree import DecisionTreeRegressor\n",
    "DTR1 = DecisionTreeRegressor(random_state=0).fit(x_train, y_train)\n",
    "print(f'training score: {DTR1.score(x_train, y_train)}')\n",
    "print(f'testing score: {DTR1.score(x_test, y_test)}')"
   ]
  },
  {
   "cell_type": "raw",
   "metadata": {},
   "source": [
    "parameters ={'max_depth': [2, 3, 5, 10, 20],'min_samples_leaf': [5, 10, 20, 50, 100],'criterion':['squared_error', 'friedman_mse', 'absolute_error', 'poisson']}\n",
    "for i in  range(2,11):   \n",
    "    DTR1_Regu = DecisionTreeRegressor(random_state = 0)\n",
    "    DTR1_GSCV = GridSearchCV(DTR1_Regu, parameters, cv=i).fit(x_train,y_train)\n",
    "    print(\"tuned hyperparameters :(best parameters) \",DTR1_GSCV.best_params_)\n",
    "    print(\"accuracy :\",DTR1_GSCV.best_score_)"
   ]
  },
  {
   "cell_type": "code",
   "execution_count": 25,
   "metadata": {},
   "outputs": [
    {
     "name": "stdout",
     "output_type": "stream",
     "text": [
      "training score: 0.5038494156262161\n",
      "testing score: 0.36736848613537565\n"
     ]
    }
   ],
   "source": [
    "DTR1_tuned = DecisionTreeRegressor(random_state=0,max_depth= 5, min_samples_leaf= 10).fit(x_train, y_train)\n",
    "print(f'training score: {DTR1_tuned.score(x_train, y_train)}')\n",
    "print(f'testing score: {DTR1_tuned.score(x_test, y_test)}')"
   ]
  },
  {
   "cell_type": "code",
   "execution_count": 26,
   "metadata": {},
   "outputs": [],
   "source": [
    "R2_table.loc[5]=['DTR',DTR1.score(x_train,y_train),DTR1.score(x_test,y_test),DTR1_tuned.score(x_train,y_train),DTR1_tuned.score(x_test,y_test)]"
   ]
  },
  {
   "cell_type": "code",
   "execution_count": 27,
   "metadata": {},
   "outputs": [
    {
     "name": "stdout",
     "output_type": "stream",
     "text": [
      "training score: 0.59837465685532\n",
      "testing score: 0.30290909193689286\n"
     ]
    }
   ],
   "source": [
    "from sklearn.neighbors import KNeighborsRegressor\n",
    "KNNR1 = KNeighborsRegressor().fit(x_train, y_train)\n",
    "print(f'training score: {KNNR1.score(x_train, y_train)}')\n",
    "print(f'testing score: {KNNR1.score(x_test, y_test)}')"
   ]
  },
  {
   "cell_type": "raw",
   "metadata": {},
   "source": [
    "parameters ={ 'algorithm' : ['ball_tree', 'kd_tree', 'brute'],\n",
    "               'leaf_size' : [18,20,25,27,30,32,34],\n",
    "               'n_neighbors' : [3,5,7,9,10,11,12,13]\n",
    "              }\n",
    "for i in  range(2,11):   \n",
    "    KNNR1_Regu = KNeighborsRegressor()\n",
    "    KNNR1_GSCV = GridSearchCV(KNNR1_Regu, parameters, cv=i).fit(x_train,y_train)\n",
    "    print(\"tuned hpyerparameters :(best parameters) \",KNNR1_GSCV.best_params_)\n",
    "    print(\"accuracy :\",KNNR1_GSCV.best_score_)"
   ]
  },
  {
   "cell_type": "code",
   "execution_count": 28,
   "metadata": {},
   "outputs": [
    {
     "name": "stdout",
     "output_type": "stream",
     "text": [
      "training score: 0.5320920149705668\n",
      "testing score: 0.33047926724502996\n"
     ]
    }
   ],
   "source": [
    "KNNR1_tuned = KNeighborsRegressor(algorithm= 'brute', leaf_size= 18, n_neighbors= 10).fit(x_train, y_train)\n",
    "print(f'training score: {KNNR1_tuned.score(x_train, y_train)}')\n",
    "print(f'testing score: {KNNR1_tuned.score(x_test, y_test)}')"
   ]
  },
  {
   "cell_type": "code",
   "execution_count": 29,
   "metadata": {},
   "outputs": [],
   "source": [
    "R2_table.loc[6]=['KNNR',KNNR1.score(x_train,y_train),KNNR1.score(x_test,y_test),KNNR1_tuned.score(x_train,y_train),KNNR1_tuned.score(x_test,y_test)]"
   ]
  },
  {
   "cell_type": "code",
   "execution_count": 30,
   "metadata": {},
   "outputs": [
    {
     "name": "stdout",
     "output_type": "stream",
     "text": [
      "training score: 0.9286550402521664\n",
      "testing score: 0.47155529555045717\n"
     ]
    }
   ],
   "source": [
    "from sklearn.ensemble import RandomForestRegressor\n",
    "RF1 = RandomForestRegressor(random_state=0).fit(x_train, y_train)\n",
    "print(f'training score: {RF1.score(x_train, y_train)}')\n",
    "print(f'testing score: {RF1.score(x_test, y_test)}')"
   ]
  },
  {
   "cell_type": "raw",
   "metadata": {},
   "source": [
    "from sklearn.model_selection import GridSearchCV\n",
    "parameters ={ #'n_estimators' : [115,130,145,160],\n",
    "              #'criterion': ['squared_error', 'friedman_mse', 'absolute_error', 'poisson'],\n",
    "              'max_depth' : [2,5,7,10,15],\n",
    "              'min_samples_leaf' : [5, 10, 20, 50, 100],\n",
    "              }\n",
    "for i in  range(2,11):\n",
    "    RF_GSCV1 = GridSearchCV(RandomForestRegressor(), parameters, cv=i).fit(x_train,y_train)\n",
    "    print(\"tuned hyperparameters :(best parameters) \",RF_GSCV1.best_params_)\n",
    "    print(\"accuracy :\",RF_GSCV1.best_score_)"
   ]
  },
  {
   "cell_type": "code",
   "execution_count": 31,
   "metadata": {},
   "outputs": [
    {
     "name": "stdout",
     "output_type": "stream",
     "text": [
      "training score: 0.7306918774824035\n",
      "testing score: 0.4561404620559687\n"
     ]
    }
   ],
   "source": [
    "RFreg1 = RandomForestRegressor(n_estimators=160,max_depth=15,min_samples_leaf=5, random_state=0).fit(x_train, y_train)\n",
    "print(f'training score: {RFreg1.score(x_train, y_train)}')\n",
    "print(f'testing score: {RFreg1.score(x_test, y_test)}')"
   ]
  },
  {
   "cell_type": "code",
   "execution_count": 32,
   "metadata": {},
   "outputs": [],
   "source": [
    "R2_table.loc[7]=['Random Forest',RF1.score(x_train,y_train),RF1.score(x_test,y_test),RFreg1.score(x_train,y_train),RFreg1.score(x_test,y_test)]"
   ]
  },
  {
   "cell_type": "code",
   "execution_count": 33,
   "metadata": {},
   "outputs": [
    {
     "name": "stdout",
     "output_type": "stream",
     "text": [
      "training score: 0.9555831545163412\n",
      "testing score: 0.39788457425556023\n"
     ]
    }
   ],
   "source": [
    "import xgboost as xg\n",
    "xgb_r1 = xg.XGBRegressor().fit(x_train, y_train)\n",
    "print(f'training score: {xgb_r1.score(x_train, y_train)}')\n",
    "print(f'testing score: {xgb_r1.score(x_test, y_test)}')"
   ]
  },
  {
   "cell_type": "raw",
   "metadata": {},
   "source": [
    "parameters ={ 'n_estimators' : range(100,1000,50),\n",
    "              #'criterion': ['gini', 'entropy'],\n",
    "              'max_depth' : range(2,11,1),\n",
    "              #'min_samples_leaf' : range(2,5,1),\n",
    "              #'min_samples_split': range(2,10,2),\n",
    "              #'max_features' : ['auto','log2']\n",
    "             'learning_rate':[0.1,0.01],\n",
    "             #'gamma':[0,1,5]\n",
    "              }\n",
    "\n",
    "for i in  range(2,11):\n",
    "    XG_GSCV1 = GridSearchCV(xg.XGBRegressor(), parameters, cv=i).fit(x_train,y_train)\n",
    "    print(\"tuned hpyerparameters :(best parameters) \",XG_GSCV1.best_params_)\n",
    "    print(\"accuracy :\",XG_GSCV1.best_score_)"
   ]
  },
  {
   "cell_type": "code",
   "execution_count": 34,
   "metadata": {},
   "outputs": [
    {
     "name": "stdout",
     "output_type": "stream",
     "text": [
      "training score: 0.9156868851511105\n",
      "testing score: 0.46711244964849985\n"
     ]
    }
   ],
   "source": [
    "xgb_reg1 = xg.XGBRegressor(max_depth= 9, n_estimators= 810,learning_rate=0.01).fit(x_train, y_train)\n",
    "print(f'training score: {xgb_reg1.score(x_train, y_train)}')\n",
    "print(f'testing score: {xgb_reg1.score(x_test, y_test)}')"
   ]
  },
  {
   "cell_type": "code",
   "execution_count": 35,
   "metadata": {},
   "outputs": [],
   "source": [
    "R2_table.loc[8]=['XG Boost',xgb_r1.score(x_train,y_train),xgb_r1.score(x_test,y_test),xgb_reg1.score(x_train,y_train),xgb_reg1.score(x_test,y_test)]"
   ]
  },
  {
   "cell_type": "code",
   "execution_count": 36,
   "metadata": {},
   "outputs": [
    {
     "data": {
      "text/html": [
       "<div>\n",
       "<style scoped>\n",
       "    .dataframe tbody tr th:only-of-type {\n",
       "        vertical-align: middle;\n",
       "    }\n",
       "\n",
       "    .dataframe tbody tr th {\n",
       "        vertical-align: top;\n",
       "    }\n",
       "\n",
       "    .dataframe thead th {\n",
       "        text-align: right;\n",
       "    }\n",
       "</style>\n",
       "<table border=\"1\" class=\"dataframe\">\n",
       "  <thead>\n",
       "    <tr style=\"text-align: right;\">\n",
       "      <th></th>\n",
       "      <th>Model</th>\n",
       "      <th>Train_R2</th>\n",
       "      <th>Test_R2</th>\n",
       "      <th>Train_R2_Tuning</th>\n",
       "      <th>Test_R2_Tuning</th>\n",
       "    </tr>\n",
       "  </thead>\n",
       "  <tbody>\n",
       "    <tr>\n",
       "      <th>0</th>\n",
       "      <td>Linear Regression</td>\n",
       "      <td>0.456421</td>\n",
       "      <td>0.353147</td>\n",
       "      <td>NaN</td>\n",
       "      <td>NaN</td>\n",
       "    </tr>\n",
       "    <tr>\n",
       "      <th>1</th>\n",
       "      <td>Lasso</td>\n",
       "      <td>0.456177</td>\n",
       "      <td>0.357440</td>\n",
       "      <td>NaN</td>\n",
       "      <td>NaN</td>\n",
       "    </tr>\n",
       "    <tr>\n",
       "      <th>2</th>\n",
       "      <td>Ridge</td>\n",
       "      <td>0.455571</td>\n",
       "      <td>0.364623</td>\n",
       "      <td>NaN</td>\n",
       "      <td>NaN</td>\n",
       "    </tr>\n",
       "    <tr>\n",
       "      <th>3</th>\n",
       "      <td>ElasticNet</td>\n",
       "      <td>0.451616</td>\n",
       "      <td>0.373711</td>\n",
       "      <td>NaN</td>\n",
       "      <td>NaN</td>\n",
       "    </tr>\n",
       "    <tr>\n",
       "      <th>4</th>\n",
       "      <td>SVR</td>\n",
       "      <td>0.453032</td>\n",
       "      <td>0.375149</td>\n",
       "      <td>0.551374</td>\n",
       "      <td>0.390842</td>\n",
       "    </tr>\n",
       "    <tr>\n",
       "      <th>5</th>\n",
       "      <td>DTR</td>\n",
       "      <td>0.999802</td>\n",
       "      <td>0.026925</td>\n",
       "      <td>0.503849</td>\n",
       "      <td>0.367368</td>\n",
       "    </tr>\n",
       "    <tr>\n",
       "      <th>6</th>\n",
       "      <td>KNNR</td>\n",
       "      <td>0.598375</td>\n",
       "      <td>0.302909</td>\n",
       "      <td>0.532092</td>\n",
       "      <td>0.330479</td>\n",
       "    </tr>\n",
       "    <tr>\n",
       "      <th>7</th>\n",
       "      <td>Random Forest</td>\n",
       "      <td>0.928655</td>\n",
       "      <td>0.471555</td>\n",
       "      <td>0.730692</td>\n",
       "      <td>0.456140</td>\n",
       "    </tr>\n",
       "    <tr>\n",
       "      <th>8</th>\n",
       "      <td>XG Boost</td>\n",
       "      <td>0.955583</td>\n",
       "      <td>0.397885</td>\n",
       "      <td>0.915687</td>\n",
       "      <td>0.467112</td>\n",
       "    </tr>\n",
       "  </tbody>\n",
       "</table>\n",
       "</div>"
      ],
      "text/plain": [
       "               Model  Train_R2   Test_R2  Train_R2_Tuning  Test_R2_Tuning\n",
       "0  Linear Regression  0.456421  0.353147              NaN             NaN\n",
       "1              Lasso  0.456177  0.357440              NaN             NaN\n",
       "2              Ridge  0.455571  0.364623              NaN             NaN\n",
       "3         ElasticNet  0.451616  0.373711              NaN             NaN\n",
       "4                SVR  0.453032  0.375149         0.551374        0.390842\n",
       "5                DTR  0.999802  0.026925         0.503849        0.367368\n",
       "6               KNNR  0.598375  0.302909         0.532092        0.330479\n",
       "7      Random Forest  0.928655  0.471555         0.730692        0.456140\n",
       "8           XG Boost  0.955583  0.397885         0.915687        0.467112"
      ]
     },
     "execution_count": 36,
     "metadata": {},
     "output_type": "execute_result"
    }
   ],
   "source": [
    "R2_table"
   ]
  },
  {
   "cell_type": "markdown",
   "metadata": {},
   "source": [
    "### Cluster -2"
   ]
  },
  {
   "cell_type": "code",
   "execution_count": 37,
   "metadata": {},
   "outputs": [],
   "source": [
    "cluster_data=x[x['cluster']==1] #1st cluster\n",
    "cluster_features=cluster_data.drop(['cluster','Freight'],axis=1)\n",
    "cluster_output=cluster_data['Freight']"
   ]
  },
  {
   "cell_type": "code",
   "execution_count": 38,
   "metadata": {},
   "outputs": [],
   "source": [
    "R2_table2=pd.DataFrame(columns=['Model','Train_R2','Test_R2','Train_R2_Tuning','Test_R2_Tuning'])"
   ]
  },
  {
   "cell_type": "code",
   "execution_count": 39,
   "metadata": {},
   "outputs": [
    {
     "name": "stdout",
     "output_type": "stream",
     "text": [
      "Training score:0.4462106425101051 \n",
      "Testing Score:0.4119000070913501\n"
     ]
    }
   ],
   "source": [
    "from sklearn.model_selection import train_test_split\n",
    "x_train, x_test, y_train, y_test = train_test_split(cluster_features, cluster_output, test_size=1 / 3, random_state=355)\n",
    "\n",
    "from sklearn.linear_model  import LinearRegression\n",
    "regression2 = LinearRegression()\n",
    "regression2.fit(x_train,y_train)\n",
    "print(f'Training score:{regression2.score(x_train,y_train)} \\nTesting Score:{regression2.score(x_test,y_test)}')"
   ]
  },
  {
   "cell_type": "code",
   "execution_count": 40,
   "metadata": {},
   "outputs": [
    {
     "name": "stdout",
     "output_type": "stream",
     "text": [
      "Training score:0.0 \n",
      "Testing Score:-0.0007289690070433341\n",
      "Training score:0.4460906687980445 \n",
      "Testing Score:0.4124130070819403\n"
     ]
    }
   ],
   "source": [
    "R2_table2.loc[0]=['Linear Regression',regression1.score(x_train,y_train),regression1.score(x_test,y_test),np.nan,np.nan]\n",
    "\n",
    "from sklearn.linear_model  import Lasso\n",
    "lasso2 = Lasso()\n",
    "lasso2.fit(x_train, y_train)\n",
    "print(f'Training score:{lasso2.score(x_train,y_train)} \\nTesting Score:{lasso2.score(x_test,y_test)}')\n",
    "\n",
    "from sklearn.linear_model  import LassoCV\n",
    "lassocv2 = LassoCV(alphas = None,cv =10, max_iter = 100000, normalize = True).fit(x_train, y_train)\n",
    "lasso_reg2 = Lasso(lassocv2.alpha_).fit(x_train, y_train)\n",
    "print(f'Training score:{lasso_reg2.score(x_train,y_train)} \\nTesting Score:{lasso_reg2.score(x_test,y_test)}')"
   ]
  },
  {
   "cell_type": "code",
   "execution_count": 41,
   "metadata": {},
   "outputs": [
    {
     "name": "stdout",
     "output_type": "stream",
     "text": [
      "Training score:0.44621058365100597 \n",
      "Testing Score:0.411914491466277\n"
     ]
    }
   ],
   "source": [
    "R2_table2.loc[1]=['Lasso',lasso_reg2.score(x_train,y_train),lasso_reg2.score(x_test,y_test),np.nan,np.nan]\n",
    "\n",
    "from sklearn.linear_model  import RidgeCV,Ridge\n",
    "alphas = np.random.uniform(low=0, high=10, size=(50,))\n",
    "ridgecv2 = RidgeCV(alphas = alphas,cv=10,normalize = True)\n",
    "ridgecv2.fit(x_train, y_train)\n",
    "ridge_reg2 = Ridge(alpha=ridgecv2.alpha_)\n",
    "ridge_reg2.fit(x_train, y_train)\n",
    "print(f'Training score:{ridge_reg2.score(x_train,y_train)} \\nTesting Score:{ridge_reg2.score(x_test,y_test)}')"
   ]
  },
  {
   "cell_type": "code",
   "execution_count": 42,
   "metadata": {},
   "outputs": [
    {
     "name": "stdout",
     "output_type": "stream",
     "text": [
      "Training score:0.4452910644484577 \n",
      "Testing Score:0.4132335101940856\n"
     ]
    }
   ],
   "source": [
    "R2_table2.loc[2]=['Ridge',ridge_reg2.score(x_train,y_train),ridge_reg2.score(x_test,y_test),np.nan,np.nan]\n",
    "\n",
    "from sklearn.linear_model  import ElasticNetCV,ElasticNet\n",
    "elasticCV2 = ElasticNetCV(alphas = None, cv =10)\n",
    "elasticCV2.fit(x_train, y_train)\n",
    "elasticnet_reg2 = ElasticNet(alpha = elasticCV2.alpha_,l1_ratio = elasticCV1.l1_ratio)\n",
    "elasticnet_reg2.fit(x_train, y_train)\n",
    "print(f'Training score:{elasticnet_reg2.score(x_train,y_train)} \\nTesting Score:{elasticnet_reg2.score(x_test,y_test)}')\n",
    "\n",
    "R2_table2.loc[3]=['ElasticNet',elasticnet_reg2.score(x_train,y_train),elasticnet_reg2.score(x_test,y_test),np.nan,np.nan]"
   ]
  },
  {
   "cell_type": "code",
   "execution_count": 43,
   "metadata": {},
   "outputs": [
    {
     "name": "stdout",
     "output_type": "stream",
     "text": [
      "Training score:0.4555946228928306 \n",
      "Testing Score:0.43369926956036653\n"
     ]
    }
   ],
   "source": [
    "from sklearn.svm import SVR\n",
    "SVR2 = SVR()\n",
    "SVR2.fit(x_train,y_train)\n",
    "print(f'Training score:{SVR2.score(x_train,y_train)} \\nTesting Score:{SVR2.score(x_test,y_test)}')"
   ]
  },
  {
   "cell_type": "raw",
   "metadata": {},
   "source": [
    "from sklearn.model_selection import GridSearchCV\n",
    "parameters ={'C': [0.01,0.1, 1, 10, 100, 1000],'gamma': [1, 0.1, 0.01, 0.001, 0.0001],'kernel': ['rbf']}\n",
    "SVR_Reg2 = SVR()\n",
    "for i in  range(2,11):\n",
    "    SVR_GSCV2 = GridSearchCV(SVR_Reg2, parameters, cv=i).fit(x_train,y_train)\n",
    "    print(\"tuned hpyerparameters :(best parameters) \",SVR_GSCV2.best_params_)\n",
    "    print(\"accuracy :\",SVR_GSCV2.best_score_)"
   ]
  },
  {
   "cell_type": "code",
   "execution_count": 44,
   "metadata": {},
   "outputs": [
    {
     "name": "stdout",
     "output_type": "stream",
     "text": [
      "Training score:0.5370821945529771 \n",
      "Testing Score:0.48057679668847775\n",
      "training score: 0.9999755315450953\n",
      "testing score: 0.10121885238189454\n"
     ]
    }
   ],
   "source": [
    "SVR2_tuned = SVR(gamma=0.1)\n",
    "SVR2_tuned.fit(x_train,y_train)\n",
    "print(f'Training score:{SVR2_tuned.score(x_train,y_train)} \\nTesting Score:{SVR2_tuned.score(x_test,y_test)}')\n",
    "R2_table2.loc[4]=['SVR',SVR2.score(x_train,y_train),SVR2.score(x_test,y_test),SVR2_tuned.score(x_train,y_train),SVR2_tuned.score(x_test,y_test)]\n",
    "\n",
    "from sklearn.tree import DecisionTreeRegressor\n",
    "DTR2 = DecisionTreeRegressor(random_state=0).fit(x_train, y_train)\n",
    "print(f'training score: {DTR2.score(x_train, y_train)}')\n",
    "print(f'testing score: {DTR2.score(x_test, y_test)}')"
   ]
  },
  {
   "cell_type": "raw",
   "metadata": {},
   "source": [
    "parameters ={'max_depth': [2, 3, 5, 10, 20],'min_samples_leaf': [5, 10, 20, 50, 100],'criterion':['squared_error', 'friedman_mse', 'absolute_error', 'poisson']}\n",
    "for i in  range(2,11):   \n",
    "    DTR2_Regu = DecisionTreeRegressor(random_state = 0)\n",
    "    DTR2_GSCV = GridSearchCV(DTR2_Regu, parameters, cv=i).fit(x_train,y_train)\n",
    "    print(\"tuned hyperparameters :(best parameters) \",DTR2_GSCV.best_params_)\n",
    "    print(\"accuracy :\",DTR2_GSCV.best_score_)"
   ]
  },
  {
   "cell_type": "code",
   "execution_count": 45,
   "metadata": {},
   "outputs": [
    {
     "name": "stdout",
     "output_type": "stream",
     "text": [
      "training score: 0.47769849401413\n",
      "testing score: 0.4189050917105588\n"
     ]
    }
   ],
   "source": [
    "DTR2_tuned = DecisionTreeRegressor(criterion='absolute_error',random_state=0,max_depth= 5, min_samples_leaf= 5).fit(x_train, y_train)\n",
    "print(f'training score: {DTR2_tuned.score(x_train, y_train)}')\n",
    "print(f'testing score: {DTR2_tuned.score(x_test, y_test)}')"
   ]
  },
  {
   "cell_type": "code",
   "execution_count": 46,
   "metadata": {},
   "outputs": [
    {
     "name": "stdout",
     "output_type": "stream",
     "text": [
      "training score: 0.62713419607618\n",
      "testing score: 0.41910373350672336\n"
     ]
    }
   ],
   "source": [
    "R2_table2.loc[5]=['DTR',DTR2.score(x_train,y_train),DTR2.score(x_test,y_test),DTR2_tuned.score(x_train,y_train),DTR2_tuned.score(x_test,y_test)]\n",
    "\n",
    "from sklearn.neighbors import KNeighborsRegressor\n",
    "KNNR2 = KNeighborsRegressor().fit(x_train, y_train)\n",
    "print(f'training score: {KNNR2.score(x_train, y_train)}')\n",
    "print(f'testing score: {KNNR2.score(x_test, y_test)}')"
   ]
  },
  {
   "cell_type": "raw",
   "metadata": {},
   "source": [
    "parameters ={ 'algorithm' : ['ball_tree', 'kd_tree', 'brute'],\n",
    "               'leaf_size' : [18,20,25,27,30,32,34],\n",
    "               'n_neighbors' : [3,5,7,9,10,11,12,13]\n",
    "              }\n",
    "for i in  range(2,11):   \n",
    "    KNNR2_Regu = KNeighborsRegressor()\n",
    "    KNNR2_GSCV = GridSearchCV(KNNR2_Regu, parameters, cv=i).fit(x_train,y_train)\n",
    "    print(\"tuned hpyerparameters :(best parameters) \",KNNR2_GSCV.best_params_)\n",
    "    print(\"accuracy :\",KNNR2_GSCV.best_score_)"
   ]
  },
  {
   "cell_type": "code",
   "execution_count": 47,
   "metadata": {},
   "outputs": [
    {
     "name": "stdout",
     "output_type": "stream",
     "text": [
      "training score: 0.5614065065134513\n",
      "testing score: 0.4400667260826322\n"
     ]
    }
   ],
   "source": [
    "KNNR2_tuned = KNeighborsRegressor(algorithm= 'kd_tree', leaf_size= 34, n_neighbors= 9).fit(x_train, y_train)\n",
    "print(f'training score: {KNNR2_tuned.score(x_train, y_train)}')\n",
    "print(f'testing score: {KNNR2_tuned.score(x_test, y_test)}')\n",
    "\n",
    "R2_table2.loc[6]=['KNNR',KNNR2.score(x_train,y_train),KNNR2.score(x_test,y_test),KNNR2_tuned.score(x_train,y_train),KNNR2_tuned.score(x_test,y_test)]"
   ]
  },
  {
   "cell_type": "code",
   "execution_count": 48,
   "metadata": {},
   "outputs": [
    {
     "name": "stdout",
     "output_type": "stream",
     "text": [
      "training score: 0.9311740354977623\n",
      "testing score: 0.5011025371786126\n"
     ]
    }
   ],
   "source": [
    "from sklearn.ensemble import RandomForestRegressor\n",
    "RF2 = RandomForestRegressor(random_state=0).fit(x_train, y_train)\n",
    "print(f'training score: {RF2.score(x_train, y_train)}')\n",
    "print(f'testing score: {RF2.score(x_test, y_test)}')"
   ]
  },
  {
   "cell_type": "raw",
   "metadata": {},
   "source": [
    "from sklearn.model_selection import GridSearchCV\n",
    "parameters ={ #'n_estimators' : [115,130,145,160],\n",
    "              #'criterion': ['squared_error', 'friedman_mse', 'absolute_error', 'poisson'],\n",
    "              'max_depth' : [2,5,7,10,15],\n",
    "              'min_samples_leaf' : [5, 10, 20, 50, 100],\n",
    "              }\n",
    "for i in  range(2,11):\n",
    "    RF_GSCV2 = GridSearchCV(RandomForestRegressor(), parameters, cv=i).fit(x_train,y_train)\n",
    "    print(\"tuned hyperparameters :(best parameters) \",RF_GSCV2.best_params_)\n",
    "    print(\"accuracy :\",RF_GSCV2.best_score_)"
   ]
  },
  {
   "cell_type": "code",
   "execution_count": 49,
   "metadata": {},
   "outputs": [
    {
     "name": "stdout",
     "output_type": "stream",
     "text": [
      "training score: 0.6993435497112737\n",
      "testing score: 0.48348696199229624\n"
     ]
    }
   ],
   "source": [
    "RFreg2 = RandomForestRegressor(n_estimators=85,max_depth=10,min_samples_leaf=5, random_state=0).fit(x_train, y_train)\n",
    "print(f'training score: {RFreg2.score(x_train, y_train)}')\n",
    "print(f'testing score: {RFreg2.score(x_test, y_test)}')\n",
    "\n",
    "R2_table2.loc[7]=['Random Forest',RF2.score(x_train,y_train),RF2.score(x_test,y_test),RFreg2.score(x_train,y_train),RFreg2.score(x_test,y_test)]"
   ]
  },
  {
   "cell_type": "code",
   "execution_count": 50,
   "metadata": {},
   "outputs": [
    {
     "name": "stdout",
     "output_type": "stream",
     "text": [
      "training score: 0.9269046163250466\n",
      "testing score: 0.4826496280954776\n"
     ]
    }
   ],
   "source": [
    "import xgboost as xg\n",
    "xgb_r2 = xg.XGBRegressor().fit(x_train, y_train)\n",
    "print(f'training score: {xgb_r2.score(x_train, y_train)}')\n",
    "print(f'testing score: {xgb_r2.score(x_test, y_test)}')"
   ]
  },
  {
   "cell_type": "raw",
   "metadata": {},
   "source": [
    "parameters ={ 'n_estimators' : range(100,1000,50),\n",
    "              #'criterion': ['gini', 'entropy'],\n",
    "              'max_depth' : range(2,11,1),\n",
    "              #'min_samples_leaf' : range(2,5,1),\n",
    "              #'min_samples_split': range(2,10,2),\n",
    "              #'max_features' : ['auto','log2']\n",
    "             'learning_rate':[0.1,0.01],\n",
    "             #'gamma':[0,1,5]\n",
    "              }\n",
    "\n",
    "for i in  range(2,11):\n",
    "    XG_GSCV2 = GridSearchCV(xg.XGBRegressor(), parameters, cv=i).fit(x_train,y_train)\n",
    "    print(\"tuned hpyerparameters :(best parameters) \",XG_GSCV2.best_params_)\n",
    "    print(\"accuracy :\",XG_GSCV2.best_score_)"
   ]
  },
  {
   "cell_type": "code",
   "execution_count": 51,
   "metadata": {},
   "outputs": [
    {
     "name": "stdout",
     "output_type": "stream",
     "text": [
      "training score: 0.8132692714167868\n",
      "testing score: 0.5043013926386959\n"
     ]
    }
   ],
   "source": [
    "xgb_reg2 = xg.XGBRegressor(max_depth= 9, n_estimators= 600,learning_rate=0.01).fit(x_train, y_train)\n",
    "print(f'training score: {xgb_reg2.score(x_train, y_train)}')\n",
    "print(f'testing score: {xgb_reg2.score(x_test, y_test)}')\n",
    "R2_table2.loc[8]=['XG Boost',xgb_r2.score(x_train,y_train),xgb_r2.score(x_test,y_test),xgb_reg2.score(x_train,y_train),xgb_reg2.score(x_test,y_test)]"
   ]
  },
  {
   "cell_type": "code",
   "execution_count": 52,
   "metadata": {},
   "outputs": [
    {
     "data": {
      "text/html": [
       "<div>\n",
       "<style scoped>\n",
       "    .dataframe tbody tr th:only-of-type {\n",
       "        vertical-align: middle;\n",
       "    }\n",
       "\n",
       "    .dataframe tbody tr th {\n",
       "        vertical-align: top;\n",
       "    }\n",
       "\n",
       "    .dataframe thead th {\n",
       "        text-align: right;\n",
       "    }\n",
       "</style>\n",
       "<table border=\"1\" class=\"dataframe\">\n",
       "  <thead>\n",
       "    <tr style=\"text-align: right;\">\n",
       "      <th></th>\n",
       "      <th>Model</th>\n",
       "      <th>Train_R2</th>\n",
       "      <th>Test_R2</th>\n",
       "      <th>Train_R2_Tuning</th>\n",
       "      <th>Test_R2_Tuning</th>\n",
       "    </tr>\n",
       "  </thead>\n",
       "  <tbody>\n",
       "    <tr>\n",
       "      <th>0</th>\n",
       "      <td>Linear Regression</td>\n",
       "      <td>0.363016</td>\n",
       "      <td>0.322873</td>\n",
       "      <td>NaN</td>\n",
       "      <td>NaN</td>\n",
       "    </tr>\n",
       "    <tr>\n",
       "      <th>1</th>\n",
       "      <td>Lasso</td>\n",
       "      <td>0.446091</td>\n",
       "      <td>0.412413</td>\n",
       "      <td>NaN</td>\n",
       "      <td>NaN</td>\n",
       "    </tr>\n",
       "    <tr>\n",
       "      <th>2</th>\n",
       "      <td>Ridge</td>\n",
       "      <td>0.446211</td>\n",
       "      <td>0.411914</td>\n",
       "      <td>NaN</td>\n",
       "      <td>NaN</td>\n",
       "    </tr>\n",
       "    <tr>\n",
       "      <th>3</th>\n",
       "      <td>ElasticNet</td>\n",
       "      <td>0.445291</td>\n",
       "      <td>0.413234</td>\n",
       "      <td>NaN</td>\n",
       "      <td>NaN</td>\n",
       "    </tr>\n",
       "    <tr>\n",
       "      <th>4</th>\n",
       "      <td>SVR</td>\n",
       "      <td>0.455595</td>\n",
       "      <td>0.433699</td>\n",
       "      <td>0.537082</td>\n",
       "      <td>0.480577</td>\n",
       "    </tr>\n",
       "    <tr>\n",
       "      <th>5</th>\n",
       "      <td>DTR</td>\n",
       "      <td>0.999976</td>\n",
       "      <td>0.101219</td>\n",
       "      <td>0.477698</td>\n",
       "      <td>0.418905</td>\n",
       "    </tr>\n",
       "    <tr>\n",
       "      <th>6</th>\n",
       "      <td>KNNR</td>\n",
       "      <td>0.627134</td>\n",
       "      <td>0.419104</td>\n",
       "      <td>0.561407</td>\n",
       "      <td>0.440067</td>\n",
       "    </tr>\n",
       "    <tr>\n",
       "      <th>7</th>\n",
       "      <td>Random Forest</td>\n",
       "      <td>0.931174</td>\n",
       "      <td>0.501103</td>\n",
       "      <td>0.699344</td>\n",
       "      <td>0.483487</td>\n",
       "    </tr>\n",
       "    <tr>\n",
       "      <th>8</th>\n",
       "      <td>XG Boost</td>\n",
       "      <td>0.926905</td>\n",
       "      <td>0.482650</td>\n",
       "      <td>0.813269</td>\n",
       "      <td>0.504301</td>\n",
       "    </tr>\n",
       "  </tbody>\n",
       "</table>\n",
       "</div>"
      ],
      "text/plain": [
       "               Model  Train_R2   Test_R2  Train_R2_Tuning  Test_R2_Tuning\n",
       "0  Linear Regression  0.363016  0.322873              NaN             NaN\n",
       "1              Lasso  0.446091  0.412413              NaN             NaN\n",
       "2              Ridge  0.446211  0.411914              NaN             NaN\n",
       "3         ElasticNet  0.445291  0.413234              NaN             NaN\n",
       "4                SVR  0.455595  0.433699         0.537082        0.480577\n",
       "5                DTR  0.999976  0.101219         0.477698        0.418905\n",
       "6               KNNR  0.627134  0.419104         0.561407        0.440067\n",
       "7      Random Forest  0.931174  0.501103         0.699344        0.483487\n",
       "8           XG Boost  0.926905  0.482650         0.813269        0.504301"
      ]
     },
     "execution_count": 52,
     "metadata": {},
     "output_type": "execute_result"
    }
   ],
   "source": [
    "R2_table2"
   ]
  },
  {
   "cell_type": "markdown",
   "metadata": {},
   "source": [
    "### Cluster -3 "
   ]
  },
  {
   "cell_type": "code",
   "execution_count": 53,
   "metadata": {},
   "outputs": [],
   "source": [
    "cluster_data=x[x['cluster']==2] #3rd cluster\n",
    "cluster_features=cluster_data.drop(['cluster','Freight'],axis=1)\n",
    "cluster_output=cluster_data['Freight']"
   ]
  },
  {
   "cell_type": "code",
   "execution_count": 56,
   "metadata": {},
   "outputs": [],
   "source": [
    "R2_table3=pd.DataFrame(columns=['Model','Train_R2','Test_R2','Train_R2_Tuning','Test_R2_Tuning'])"
   ]
  },
  {
   "cell_type": "code",
   "execution_count": 54,
   "metadata": {},
   "outputs": [
    {
     "name": "stdout",
     "output_type": "stream",
     "text": [
      "Training score:0.2905460540463526 \n",
      "Testing Score:0.2901865238643839\n"
     ]
    }
   ],
   "source": [
    "from sklearn.model_selection import train_test_split\n",
    "x_train, x_test, y_train, y_test = train_test_split(cluster_features, cluster_output, test_size=1 / 3, random_state=355)\n",
    "\n",
    "from sklearn.linear_model  import LinearRegression\n",
    "regression3 = LinearRegression()\n",
    "regression3.fit(x_train,y_train)\n",
    "print(f'Training score:{regression3.score(x_train,y_train)} \\nTesting Score:{regression3.score(x_test,y_test)}')"
   ]
  },
  {
   "cell_type": "code",
   "execution_count": 57,
   "metadata": {},
   "outputs": [
    {
     "name": "stdout",
     "output_type": "stream",
     "text": [
      "Training score:0.0 \n",
      "Testing Score:-0.0002923852919902714\n",
      "Training score:0.2902570323675677 \n",
      "Testing Score:0.2905174743481087\n"
     ]
    }
   ],
   "source": [
    "R2_table3.loc[0]=['Linear Regression',regression2.score(x_train,y_train),regression2.score(x_test,y_test),np.nan,np.nan]\n",
    "\n",
    "from sklearn.linear_model  import Lasso\n",
    "lasso3 = Lasso()\n",
    "lasso3.fit(x_train, y_train)\n",
    "print(f'Training score:{lasso3.score(x_train,y_train)} \\nTesting Score:{lasso3.score(x_test,y_test)}')\n",
    "\n",
    "from sklearn.linear_model  import LassoCV\n",
    "lassocv3 = LassoCV(alphas = None,cv =10, max_iter = 100000, normalize = True).fit(x_train, y_train)\n",
    "lasso_reg3 = Lasso(lassocv3.alpha_).fit(x_train, y_train)\n",
    "print(f'Training score:{lasso_reg3.score(x_train,y_train)} \\nTesting Score:{lasso_reg3.score(x_test,y_test)}')"
   ]
  },
  {
   "cell_type": "code",
   "execution_count": 58,
   "metadata": {},
   "outputs": [
    {
     "name": "stdout",
     "output_type": "stream",
     "text": [
      "Training score:0.29047778588571294 \n",
      "Testing Score:0.29042242523847406\n"
     ]
    }
   ],
   "source": [
    "R2_table3.loc[1]=['Lasso',lasso_reg2.score(x_train,y_train),lasso_reg2.score(x_test,y_test),np.nan,np.nan]\n",
    "\n",
    "from sklearn.linear_model  import RidgeCV,Ridge\n",
    "alphas = np.random.uniform(low=0, high=10, size=(50,))\n",
    "ridgecv3 = RidgeCV(alphas = alphas,cv=10,normalize = True)\n",
    "ridgecv3.fit(x_train, y_train)\n",
    "ridge_reg3 = Ridge(alpha=ridgecv3.alpha_)\n",
    "ridge_reg3.fit(x_train, y_train)\n",
    "print(f'Training score:{ridge_reg3.score(x_train,y_train)} \\nTesting Score:{ridge_reg3.score(x_test,y_test)}')"
   ]
  },
  {
   "cell_type": "code",
   "execution_count": 59,
   "metadata": {},
   "outputs": [
    {
     "name": "stdout",
     "output_type": "stream",
     "text": [
      "Training score:0.2877824914760445 \n",
      "Testing Score:0.2903907752763\n"
     ]
    }
   ],
   "source": [
    "R2_table3.loc[2]=['Ridge',ridge_reg2.score(x_train,y_train),ridge_reg2.score(x_test,y_test),np.nan,np.nan]\n",
    "\n",
    "from sklearn.linear_model  import ElasticNetCV,ElasticNet\n",
    "elasticCV3 = ElasticNetCV(alphas = None, cv =10)\n",
    "elasticCV3.fit(x_train, y_train)\n",
    "elasticnet_reg3 = ElasticNet(alpha = elasticCV3.alpha_,l1_ratio = elasticCV1.l1_ratio)\n",
    "elasticnet_reg3.fit(x_train, y_train)\n",
    "print(f'Training score:{elasticnet_reg3.score(x_train,y_train)} \\nTesting Score:{elasticnet_reg3.score(x_test,y_test)}')\n",
    "\n",
    "R2_table3.loc[3]=['ElasticNet',elasticnet_reg3.score(x_train,y_train),elasticnet_reg3.score(x_test,y_test),np.nan,np.nan]"
   ]
  },
  {
   "cell_type": "code",
   "execution_count": 60,
   "metadata": {},
   "outputs": [
    {
     "name": "stdout",
     "output_type": "stream",
     "text": [
      "Training score:0.30801866441168246 \n",
      "Testing Score:0.28069120684037374\n"
     ]
    }
   ],
   "source": [
    "from sklearn.svm import SVR\n",
    "SVR3 = SVR()\n",
    "SVR3.fit(x_train,y_train)\n",
    "print(f'Training score:{SVR3.score(x_train,y_train)} \\nTesting Score:{SVR3.score(x_test,y_test)}')"
   ]
  },
  {
   "cell_type": "raw",
   "metadata": {},
   "source": [
    "from sklearn.model_selection import GridSearchCV\n",
    "parameters ={'C': [0.01,0.1, 1, 10, 100, 1000],'gamma': [1, 0.1, 0.01, 0.001, 0.0001],'kernel': ['rbf']}\n",
    "SVR_Reg3 = SVR()\n",
    "for i in  range(2,11):\n",
    "    SVR_GSCV3 = GridSearchCV(SVR_Reg3, parameters, cv=i).fit(x_train,y_train)\n",
    "    print(\"tuned hpyerparameters :(best parameters) \",SVR_GSCV3.best_params_)\n",
    "    print(\"accuracy :\",SVR_GSCV3.best_score_)"
   ]
  },
  {
   "cell_type": "code",
   "execution_count": 64,
   "metadata": {},
   "outputs": [
    {
     "name": "stdout",
     "output_type": "stream",
     "text": [
      "Training score:0.3790661272504078 \n",
      "Testing Score:0.3075122259455034\n",
      "training score: 0.9999200016517062\n",
      "testing score: -0.1372014259492218\n"
     ]
    }
   ],
   "source": [
    "SVR3_tuned = SVR(gamma=0.01,C=100)\n",
    "SVR3_tuned.fit(x_train,y_train)\n",
    "print(f'Training score:{SVR3_tuned.score(x_train,y_train)} \\nTesting Score:{SVR3_tuned.score(x_test,y_test)}')\n",
    "R2_table3.loc[4]=['SVR',SVR3.score(x_train,y_train),SVR3.score(x_test,y_test),SVR3_tuned.score(x_train,y_train),SVR3_tuned.score(x_test,y_test)]\n",
    "\n",
    "from sklearn.tree import DecisionTreeRegressor\n",
    "DTR3 = DecisionTreeRegressor(random_state=0).fit(x_train, y_train)\n",
    "print(f'training score: {DTR3.score(x_train, y_train)}')\n",
    "print(f'testing score: {DTR3.score(x_test, y_test)}')"
   ]
  },
  {
   "cell_type": "raw",
   "metadata": {},
   "source": [
    "parameters ={'max_depth': [2, 3, 5, 10, 20],'min_samples_leaf': [5, 10, 20, 50, 100],'criterion':['squared_error', 'friedman_mse', 'absolute_error', 'poisson']}\n",
    "for i in  range(2,11):   \n",
    "    DTR3_Regu = DecisionTreeRegressor(random_state = 0)\n",
    "    DTR3_GSCV = GridSearchCV(DTR3_Regu, parameters, cv=i).fit(x_train,y_train)\n",
    "    print(\"tuned hyperparameters :(best parameters) \",DTR3_GSCV.best_params_)\n",
    "    print(\"accuracy :\",DTR3_GSCV.best_score_)"
   ]
  },
  {
   "cell_type": "code",
   "execution_count": 66,
   "metadata": {},
   "outputs": [
    {
     "name": "stdout",
     "output_type": "stream",
     "text": [
      "training score: 0.29779530959243306\n",
      "testing score: 0.2280368246822938\n"
     ]
    }
   ],
   "source": [
    "DTR3_tuned = DecisionTreeRegressor(criterion='poisson',random_state=0,max_depth= 20, min_samples_leaf= 50).fit(x_train, y_train)\n",
    "print(f'training score: {DTR3_tuned.score(x_train, y_train)}')\n",
    "print(f'testing score: {DTR3_tuned.score(x_test, y_test)}')"
   ]
  },
  {
   "cell_type": "code",
   "execution_count": 67,
   "metadata": {},
   "outputs": [
    {
     "name": "stdout",
     "output_type": "stream",
     "text": [
      "training score: 0.46402656785614693\n",
      "testing score: 0.2301892218776358\n"
     ]
    }
   ],
   "source": [
    "R2_table3.loc[5]=['DTR',DTR3.score(x_train,y_train),DTR3.score(x_test,y_test),DTR3_tuned.score(x_train,y_train),DTR3_tuned.score(x_test,y_test)]\n",
    "\n",
    "from sklearn.neighbors import KNeighborsRegressor\n",
    "KNNR3 = KNeighborsRegressor().fit(x_train, y_train)\n",
    "print(f'training score: {KNNR3.score(x_train, y_train)}')\n",
    "print(f'testing score: {KNNR3.score(x_test, y_test)}')"
   ]
  },
  {
   "cell_type": "raw",
   "metadata": {},
   "source": [
    "parameters ={ 'algorithm' : ['ball_tree', 'kd_tree', 'brute'],\n",
    "               'leaf_size' : [18,20,25,27,30,32,34],\n",
    "               'n_neighbors' : [3,5,7,9,10,11,12,13]\n",
    "              }\n",
    "for i in  range(2,11):   \n",
    "    KNNR3_Regu = KNeighborsRegressor()\n",
    "    KNNR3_GSCV = GridSearchCV(KNNR3_Regu, parameters, cv=i).fit(x_train,y_train)\n",
    "    print(\"tuned hpyerparameters :(best parameters) \",KNNR3_GSCV.best_params_)\n",
    "    print(\"accuracy :\",KNNR3_GSCV.best_score_)"
   ]
  },
  {
   "cell_type": "code",
   "execution_count": 69,
   "metadata": {},
   "outputs": [
    {
     "name": "stdout",
     "output_type": "stream",
     "text": [
      "training score: 0.3598068462543884\n",
      "testing score: 0.24711272387041083\n"
     ]
    }
   ],
   "source": [
    "KNNR3_tuned = KNeighborsRegressor(algorithm= 'brute', leaf_size= 18, n_neighbors= 13).fit(x_train, y_train)\n",
    "print(f'training score: {KNNR3_tuned.score(x_train, y_train)}')\n",
    "print(f'testing score: {KNNR3_tuned.score(x_test, y_test)}')\n",
    "\n",
    "R2_table3.loc[6]=['KNNR',KNNR3.score(x_train,y_train),KNNR3.score(x_test,y_test),KNNR3_tuned.score(x_train,y_train),KNNR3_tuned.score(x_test,y_test)]"
   ]
  },
  {
   "cell_type": "code",
   "execution_count": 70,
   "metadata": {},
   "outputs": [
    {
     "name": "stdout",
     "output_type": "stream",
     "text": [
      "training score: 0.9042095868599371\n",
      "testing score: 0.3480823049651639\n"
     ]
    }
   ],
   "source": [
    "from sklearn.ensemble import RandomForestRegressor\n",
    "RF3 = RandomForestRegressor(random_state=0).fit(x_train, y_train)\n",
    "print(f'training score: {RF3.score(x_train, y_train)}')\n",
    "print(f'testing score: {RF3.score(x_test, y_test)}')"
   ]
  },
  {
   "cell_type": "raw",
   "metadata": {},
   "source": [
    "from sklearn.model_selection import GridSearchCV\n",
    "parameters ={ #'n_estimators' : [115,130,145,160],\n",
    "              #'criterion': ['squared_error', 'friedman_mse', 'absolute_error', 'poisson'],\n",
    "              'max_depth' : [2,5,7,10,15],\n",
    "              'min_samples_leaf' : [5, 10, 20, 50, 100],\n",
    "              }\n",
    "for i in  range(2,11):\n",
    "    RF_GSCV3 = GridSearchCV(RandomForestRegressor(), parameters, cv=i).fit(x_train,y_train)\n",
    "    print(\"tuned hyperparameters :(best parameters) \",RF_GSCV3.best_params_)\n",
    "    print(\"accuracy :\",RF_GSCV3.best_score_)"
   ]
  },
  {
   "cell_type": "code",
   "execution_count": 84,
   "metadata": {},
   "outputs": [
    {
     "name": "stdout",
     "output_type": "stream",
     "text": [
      "training score: 0.6019811859547811\n",
      "testing score: 0.3523955013148369\n"
     ]
    }
   ],
   "source": [
    "RFreg3 = RandomForestRegressor(n_estimators=10,max_depth=15,min_samples_leaf=5, random_state=0).fit(x_train, y_train)\n",
    "print(f'training score: {RFreg3.score(x_train, y_train)}')\n",
    "print(f'testing score: {RFreg3.score(x_test, y_test)}')\n",
    "\n",
    "R2_table3.loc[7]=['Random Forest',RF3.score(x_train,y_train),RF3.score(x_test,y_test),RFreg3.score(x_train,y_train),RFreg3.score(x_test,y_test)]"
   ]
  },
  {
   "cell_type": "code",
   "execution_count": 85,
   "metadata": {},
   "outputs": [
    {
     "name": "stdout",
     "output_type": "stream",
     "text": [
      "training score: 0.968809173370019\n",
      "testing score: 0.28526304129510405\n"
     ]
    }
   ],
   "source": [
    "import xgboost as xg\n",
    "xgb_r3 = xg.XGBRegressor().fit(x_train, y_train)\n",
    "print(f'training score: {xgb_r3.score(x_train, y_train)}')\n",
    "print(f'testing score: {xgb_r3.score(x_test, y_test)}')"
   ]
  },
  {
   "cell_type": "raw",
   "metadata": {},
   "source": [
    "parameters ={ 'n_estimators' : range(100,1000,50),\n",
    "              #'criterion': ['gini', 'entropy'],\n",
    "              'max_depth' : range(2,11,1),\n",
    "              #'min_samples_leaf' : range(2,5,1),\n",
    "              #'min_samples_split': range(2,10,2),\n",
    "              #'max_features' : ['auto','log2']\n",
    "             'learning_rate':[0.1,0.01],\n",
    "             #'gamma':[0,1,5]\n",
    "              }\n",
    "\n",
    "for i in  range(2,11):\n",
    "    XG_GSCV3 = GridSearchCV(xg.XGBRegressor(), parameters, cv=i).fit(x_train,y_train)\n",
    "    print(\"tuned hpyerparameters :(best parameters) \",XG_GSCV3.best_params_)\n",
    "    print(\"accuracy :\",XG_GSCV3.best_score_)"
   ]
  },
  {
   "cell_type": "code",
   "execution_count": 86,
   "metadata": {},
   "outputs": [
    {
     "name": "stdout",
     "output_type": "stream",
     "text": [
      "training score: 0.8397454482897647\n",
      "testing score: 0.29630723046766316\n"
     ]
    }
   ],
   "source": [
    "xgb_reg3 = xg.XGBRegressor(max_depth= 9, n_estimators= 600,learning_rate=0.01).fit(x_train, y_train)\n",
    "print(f'training score: {xgb_reg3.score(x_train, y_train)}')\n",
    "print(f'testing score: {xgb_reg3.score(x_test, y_test)}')\n",
    "R2_table3.loc[8]=['XG Boost',xgb_r3.score(x_train,y_train),xgb_r3.score(x_test,y_test),xgb_reg3.score(x_train,y_train),xgb_reg3.score(x_test,y_test)]"
   ]
  },
  {
   "cell_type": "code",
   "execution_count": 87,
   "metadata": {},
   "outputs": [
    {
     "data": {
      "text/html": [
       "<div>\n",
       "<style scoped>\n",
       "    .dataframe tbody tr th:only-of-type {\n",
       "        vertical-align: middle;\n",
       "    }\n",
       "\n",
       "    .dataframe tbody tr th {\n",
       "        vertical-align: top;\n",
       "    }\n",
       "\n",
       "    .dataframe thead th {\n",
       "        text-align: right;\n",
       "    }\n",
       "</style>\n",
       "<table border=\"1\" class=\"dataframe\">\n",
       "  <thead>\n",
       "    <tr style=\"text-align: right;\">\n",
       "      <th></th>\n",
       "      <th>Model</th>\n",
       "      <th>Train_R2</th>\n",
       "      <th>Test_R2</th>\n",
       "      <th>Train_R2_Tuning</th>\n",
       "      <th>Test_R2_Tuning</th>\n",
       "    </tr>\n",
       "  </thead>\n",
       "  <tbody>\n",
       "    <tr>\n",
       "      <th>0</th>\n",
       "      <td>Linear Regression</td>\n",
       "      <td>-0.049214</td>\n",
       "      <td>-0.039031</td>\n",
       "      <td>NaN</td>\n",
       "      <td>NaN</td>\n",
       "    </tr>\n",
       "    <tr>\n",
       "      <th>1</th>\n",
       "      <td>Lasso</td>\n",
       "      <td>-0.047891</td>\n",
       "      <td>-0.038182</td>\n",
       "      <td>NaN</td>\n",
       "      <td>NaN</td>\n",
       "    </tr>\n",
       "    <tr>\n",
       "      <th>2</th>\n",
       "      <td>Ridge</td>\n",
       "      <td>-0.049154</td>\n",
       "      <td>-0.038965</td>\n",
       "      <td>NaN</td>\n",
       "      <td>NaN</td>\n",
       "    </tr>\n",
       "    <tr>\n",
       "      <th>3</th>\n",
       "      <td>ElasticNet</td>\n",
       "      <td>0.287782</td>\n",
       "      <td>0.290391</td>\n",
       "      <td>NaN</td>\n",
       "      <td>NaN</td>\n",
       "    </tr>\n",
       "    <tr>\n",
       "      <th>4</th>\n",
       "      <td>SVR</td>\n",
       "      <td>0.308019</td>\n",
       "      <td>0.280691</td>\n",
       "      <td>0.379066</td>\n",
       "      <td>0.307512</td>\n",
       "    </tr>\n",
       "    <tr>\n",
       "      <th>5</th>\n",
       "      <td>DTR</td>\n",
       "      <td>0.999920</td>\n",
       "      <td>-0.137201</td>\n",
       "      <td>0.297795</td>\n",
       "      <td>0.228037</td>\n",
       "    </tr>\n",
       "    <tr>\n",
       "      <th>6</th>\n",
       "      <td>KNNR</td>\n",
       "      <td>0.464027</td>\n",
       "      <td>0.230189</td>\n",
       "      <td>0.359807</td>\n",
       "      <td>0.247113</td>\n",
       "    </tr>\n",
       "    <tr>\n",
       "      <th>7</th>\n",
       "      <td>Random Forest</td>\n",
       "      <td>0.904210</td>\n",
       "      <td>0.348082</td>\n",
       "      <td>0.601981</td>\n",
       "      <td>0.352396</td>\n",
       "    </tr>\n",
       "    <tr>\n",
       "      <th>8</th>\n",
       "      <td>XG Boost</td>\n",
       "      <td>0.968809</td>\n",
       "      <td>0.285263</td>\n",
       "      <td>0.839745</td>\n",
       "      <td>0.296307</td>\n",
       "    </tr>\n",
       "  </tbody>\n",
       "</table>\n",
       "</div>"
      ],
      "text/plain": [
       "               Model  Train_R2   Test_R2  Train_R2_Tuning  Test_R2_Tuning\n",
       "0  Linear Regression -0.049214 -0.039031              NaN             NaN\n",
       "1              Lasso -0.047891 -0.038182              NaN             NaN\n",
       "2              Ridge -0.049154 -0.038965              NaN             NaN\n",
       "3         ElasticNet  0.287782  0.290391              NaN             NaN\n",
       "4                SVR  0.308019  0.280691         0.379066        0.307512\n",
       "5                DTR  0.999920 -0.137201         0.297795        0.228037\n",
       "6               KNNR  0.464027  0.230189         0.359807        0.247113\n",
       "7      Random Forest  0.904210  0.348082         0.601981        0.352396\n",
       "8           XG Boost  0.968809  0.285263         0.839745        0.296307"
      ]
     },
     "execution_count": 87,
     "metadata": {},
     "output_type": "execute_result"
    }
   ],
   "source": [
    "R2_table3"
   ]
  },
  {
   "cell_type": "markdown",
   "metadata": {},
   "source": [
    "Cluster 0,1,2 - xgboost"
   ]
  },
  {
   "cell_type": "code",
   "execution_count": 90,
   "metadata": {},
   "outputs": [],
   "source": [
    "import pickle\n",
    "pickle.dump(xgb_reg1, open('F:\\\\ML\\\\ML Ineuron\\\\Project\\\\ShipmentPricingPrediction\\\\Models\\\\cluster0_XGBoost.sav', 'wb'))\n",
    "\n",
    "pickle.dump(xgb_reg2, open('F:\\\\ML\\\\ML Ineuron\\\\Project\\\\ShipmentPricingPrediction\\\\Models\\\\cluster1_XGBoost.sav', 'wb'))\n",
    "\n",
    "pickle.dump(xgb_reg3, open('F:\\\\ML\\\\ML Ineuron\\\\Project\\\\ShipmentPricingPrediction\\\\Models\\\\cluster2_XGBoost.sav', 'wb'))\n",
    "\n",
    "pickle.dump(kmean, open('F:\\\\ML\\\\ML Ineuron\\\\Project\\\\ShipmentPricingPrediction\\\\Models\\\\clustering_KMean.sav', 'wb'))"
   ]
  },
  {
   "cell_type": "code",
   "execution_count": null,
   "metadata": {},
   "outputs": [],
   "source": []
  }
 ],
 "metadata": {
  "kernelspec": {
   "display_name": "Python 3",
   "language": "python",
   "name": "python3"
  },
  "language_info": {
   "codemirror_mode": {
    "name": "ipython",
    "version": 3
   },
   "file_extension": ".py",
   "mimetype": "text/x-python",
   "name": "python",
   "nbconvert_exporter": "python",
   "pygments_lexer": "ipython3",
   "version": "3.7.6"
  }
 },
 "nbformat": 4,
 "nbformat_minor": 4
}
